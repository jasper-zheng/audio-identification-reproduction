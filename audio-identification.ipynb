{
 "cells": [
  {
   "cell_type": "code",
   "execution_count": null,
   "metadata": {
    "tags": []
   },
   "outputs": [],
   "source": [
    "!pip install librosa"
   ]
  },
  {
   "cell_type": "code",
   "execution_count": null,
   "metadata": {},
   "outputs": [],
   "source": [
    "%cd /notebooks/audio-identification-reproduction\n",
    "!ls"
   ]
  },
  {
   "cell_type": "code",
   "execution_count": null,
   "metadata": {},
   "outputs": [],
   "source": [
    "import os\n",
    "import numpy as np\n",
    "from skimage.feature import peak_local_max\n",
    "from scipy.ndimage import maximum_filter\n",
    "from collections import defaultdict\n",
    "import librosa\n",
    "\n",
    "import matplotlib.pyplot as plt\n",
    "\n",
    "WINDOW_SIZE = 1024 \n",
    "HOP_LENGTH = 512\n",
    "PEAK_NEIGHBORHOOD_SIZE = 20"
   ]
  },
  {
   "cell_type": "code",
   "execution_count": null,
   "metadata": {},
   "outputs": [],
   "source": [
    "# Load audio\n",
    "y, sr = librosa.load('dataset/database_recordings/pop.00006.wav', sr=22050)\n",
    "\n",
    "# Compute and plot STFT spectrogram\n",
    "D = np.abs(librosa.stft(y, n_fft=WINDOW_SIZE, window='hann', hop_length=HOP_LENGTH))\n",
    "spectrogram = librosa.amplitude_to_db(D, ref=np.max)  # Convert to log scale (decibels)\n"
   ]
  },
  {
   "cell_type": "code",
   "execution_count": null,
   "metadata": {},
   "outputs": [],
   "source": [
    "peaks = peak_local_max(np.log(D), min_distance=PEAK_NEIGHBORHOOD_SIZE,threshold_rel=0.05)"
   ]
  },
  {
   "cell_type": "code",
   "execution_count": null,
   "metadata": {},
   "outputs": [],
   "source": [
    "plt.figure(figsize=(10, 5))\n",
    "plt.plot(peaks[:, 1], peaks[:, 0], 'r.')"
   ]
  },
  {
   "cell_type": "code",
   "execution_count": null,
   "metadata": {
    "tags": []
   },
   "outputs": [],
   "source": [
    "from audio_fingerprint import fingerprintBuilder"
   ]
  },
  {
   "cell_type": "code",
   "execution_count": null,
   "metadata": {},
   "outputs": [],
   "source": [
    "folder_path = 'dataset/database_recordings'\n",
    "output_file = \"fingerprint_database.txt\"\n",
    "\n",
    "fingerprintBuilder(folder_path, output_file, \n",
    "                   WINDOW_SIZE=WINDOW_SIZE, \n",
    "                   HOP_LENGTH=HOP_LENGTH, \n",
    "                   PEAK_NEIGHBORHOOD_SIZE=PEAK_NEIGHBORHOOD_SIZE)"
   ]
  },
  {
   "cell_type": "code",
   "execution_count": null,
   "metadata": {},
   "outputs": [],
   "source": [
    "from collections import defaultdict, Counter\n",
    "\n",
    "def match_fingerprints(query_fingerprints, database):\n",
    "    \"\"\"\n",
    "    Match query fingerprints against the database and return the top three results.\n",
    "    \"\"\"\n",
    "    matches = defaultdict(list)\n",
    "\n",
    "    # Compare query fingerprints with database fingerprints\n",
    "    for fingerprint, query_time in query_fingerprints:\n",
    "        if fingerprint in database:\n",
    "            for file_name, db_time in database[fingerprint]:\n",
    "                time_offset = db_time - query_time\n",
    "                matches[file_name].append(time_offset)\n",
    "\n",
    "    # Score matches by counting the most common time offsets\n",
    "    scores = {}\n",
    "    for file_name, offsets in matches.items():\n",
    "        _, count = Counter(offsets).most_common(1)[0]\n",
    "        scores[file_name] = count\n",
    "\n",
    "    # Sort results by score and return the top three\n",
    "    top_results = sorted(scores.items(), key=lambda x: x[1], reverse=True)[:3]\n",
    "    return top_results\n",
    "\n",
    "def identify_audio(query_audio_path, database):\n",
    "    \"\"\"\n",
    "    Identify the query audio file by matching its fingerprints against the database.\n",
    "    \"\"\"\n",
    "    print(f\"Generating fingerprints for query audio: {query_audio_path}\")\n",
    "    query_fingerprints = generate_fingerprint(query_audio_path)\n",
    "\n",
    "    print(\"Matching fingerprints against the database...\")\n",
    "    top_results = match_fingerprints(query_fingerprints, database)\n",
    "\n",
    "    print(\"Top 3 matches:\")\n",
    "    for rank, (file_name, score) in enumerate(top_results, start=1):\n",
    "        print(f\"{rank}. {file_name} (Score: {score})\")\n",
    "\n",
    "    return top_results"
   ]
  },
  {
   "cell_type": "code",
   "execution_count": null,
   "metadata": {},
   "outputs": [],
   "source": [
    "query_audio_path = 'dataset/query_recordings/pop.00009-snippet-10-10.wav'\n",
    "query_fingerprints = generate_fingerprint(query_audio_path)"
   ]
  },
  {
   "cell_type": "code",
   "execution_count": null,
   "metadata": {},
   "outputs": [],
   "source": [
    "top_results = match_fingerprints(query_fingerprints, fingerprint_database)"
   ]
  },
  {
   "cell_type": "code",
   "execution_count": null,
   "metadata": {},
   "outputs": [],
   "source": [
    "top_results"
   ]
  },
  {
   "cell_type": "code",
   "execution_count": null,
   "metadata": {},
   "outputs": [],
   "source": []
  }
 ],
 "metadata": {
  "kernelspec": {
   "display_name": "Python 3 (ipykernel)",
   "language": "python",
   "name": "python3"
  },
  "language_info": {
   "codemirror_mode": {
    "name": "ipython",
    "version": 3
   },
   "file_extension": ".py",
   "mimetype": "text/x-python",
   "name": "python",
   "nbconvert_exporter": "python",
   "pygments_lexer": "ipython3",
   "version": "3.11.7"
  }
 },
 "nbformat": 4,
 "nbformat_minor": 4
}
